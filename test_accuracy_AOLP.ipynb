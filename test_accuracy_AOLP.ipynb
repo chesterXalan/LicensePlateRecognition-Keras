{
 "cells": [
  {
   "cell_type": "code",
   "execution_count": 1,
   "metadata": {},
   "outputs": [],
   "source": [
    "import cv2\n",
    "import json\n",
    "import os\n",
    "import os.path as osp\n",
    "from pathlib import Path\n",
    "from tqdm import tqdm\n",
    "from time import time\n",
    "\n",
    "from core import ObjectDetector, CornerDetector"
   ]
  },
  {
   "cell_type": "code",
   "execution_count": 2,
   "metadata": {},
   "outputs": [
    {
     "name": "stdout",
     "output_type": "stream",
     "text": [
      "<yolov4-plate_number> model loaded.\n",
      "<corner_prediction> model loaded.\n"
     ]
    }
   ],
   "source": [
    "#dt_vehicle = ObjectDetector('yolov4-default', (608, 608))\n",
    "#dt_plate   = ObjectDetector('yolov4-plate_type', (608, 608))\n",
    "dt_number  = ObjectDetector('yolov4-plate_number', (320, 320))\n",
    "dt_corner  = CornerDetector('corner_prediction')"
   ]
  },
  {
   "cell_type": "code",
   "execution_count": 3,
   "metadata": {},
   "outputs": [],
   "source": [
    "def start(path):\n",
    "    d_number = None\n",
    "    img_plate, img_plate_warped = None, None\n",
    "    img = cv2.cvtColor(cv2.imread(path), cv2.COLOR_BGR2RGB)\n",
    "\n",
    "    s_time = time()\n",
    "\n",
    "    img_plate = dt_corner.loadImage(img)\n",
    "    img_plate_warped, _ = dt_corner.runDetection()\n",
    "    \n",
    "    _ = dt_number.loadImage(img_plate_warped)\n",
    "    bbox3, obj3 = dt_number.runDetection('number')\n",
    "\n",
    "    if len(bbox3) != 0:\n",
    "        nb = [obj3[i] for i in bbox3[:, 0, 0].argsort()]\n",
    "        d_number = ''\n",
    "        for n in nb:\n",
    "            d_number += n\n",
    "\n",
    "    t_time = time() - s_time\n",
    "\n",
    "    return t_time, d_number, img_plate, img_plate_warped\n",
    "\n",
    "def error_log(p, label, predict, write=False, img1=None, img2=None):\n",
    "    log = {'path': p, 'label': label, 'predict': predict}\n",
    "    \n",
    "    if write:\n",
    "        dir = 'error_log/number_error_AOLP'\n",
    "        file = osp.basename(p).split('.')[0]\n",
    "        if not osp.exists(dir): os.mkdir(dir)\n",
    "        cv2.imwrite(osp.join(dir, file+'-plate.jpg'), cv2.cvtColor(img1, cv2.COLOR_BGR2RGB))\n",
    "        cv2.imwrite(osp.join(dir, file+'-plate_warped.jpg'), cv2.cvtColor(img2, cv2.COLOR_BGR2RGB))\n",
    "\n",
    "    return log"
   ]
  },
  {
   "cell_type": "code",
   "execution_count": 4,
   "metadata": {},
   "outputs": [
    {
     "name": "stdout",
     "output_type": "stream",
     "text": [
      "total: 2049\n"
     ]
    }
   ],
   "source": [
    "dataset_dir = r'D:\\User Profiles\\Desktop\\Personal Files\\School\\University Project\\myPlateDetection\\all_dataset\\test_data'\n",
    "plate_corner_dataset = osp.join(dataset_dir, 'plate_corner')\n",
    "plate_dataset = osp.join(dataset_dir, 'plate_images')\n",
    "\n",
    "test_path = [str(p) for p in Path(plate_corner_dataset).glob('**/*.jpg')]\n",
    "print('total:', len(test_path))"
   ]
  },
  {
   "cell_type": "code",
   "execution_count": 7,
   "metadata": {},
   "outputs": [
    {
     "name": "stderr",
     "output_type": "stream",
     "text": [
      "100%|██████████████████████████████████████████████████████| 2049/2049 [03:26<00:00,  9.92 images/s]"
     ]
    },
    {
     "name": "stdout",
     "output_type": "stream",
     "text": [
      "Average time: 0.095s\n",
      "total=2049, correct=2016, accuracy=98.39%\n",
      "number error: 33\n"
     ]
    },
    {
     "name": "stderr",
     "output_type": "stream",
     "text": [
      "\n"
     ]
    }
   ],
   "source": [
    "acc_list = [0, 0]\n",
    "num_error = []\n",
    "total_time = 0\n",
    "times = 0\n",
    "\n",
    "for i in tqdm(range(len(test_path)), unit=' images', ncols=100):\n",
    "    p = test_path[i]\n",
    "    if i == 0:\n",
    "        _, _, _, _ = start(p) # skip initial time\n",
    "    t_time, d_number, img_plate, img_plate_warped = start(p)\n",
    "\n",
    "    if d_number:\n",
    "        total_time += t_time\n",
    "        times += 1\n",
    "        \n",
    "        number_file = osp.join(plate_dataset, osp.basename(p).split('-')[0]+'-plate.json')\n",
    "        with open(number_file, 'r') as f:\n",
    "            nb = [sh['label'] for sh in json.load(f)['shapes']]\n",
    "            number = ''\n",
    "            for n in nb:\n",
    "                number += n\n",
    "\n",
    "        acc_list[0] += 1\n",
    "        if d_number == number:\n",
    "            acc_list[1] += 1\n",
    "        else:\n",
    "            num_error.append(error_log(p, number, d_number, True, img_plate, img_plate_warped))\n",
    "\n",
    "print('Average time: {:.3f}s'.format(total_time/times))\n",
    "\n",
    "print('total={:>4d}, correct={:>4d}, accuracy={:.2f}%'.format(acc_list[0], acc_list[1], acc_list[1]/acc_list[0]*100))\n",
    "print('number error:', len(num_error))\n",
    "with open('error_log/number_error_AOLP.json', 'w') as f:\n",
    "    json.dump(num_error, f, indent=2)"
   ]
  },
  {
   "cell_type": "code",
   "execution_count": 5,
   "metadata": {},
   "outputs": [
    {
     "name": "stdout",
     "output_type": "stream",
     "text": [
      "total: 681\n"
     ]
    }
   ],
   "source": [
    "dataset_dir = r'D:\\User Profiles\\Desktop\\Personal Files\\School\\University Project\\myPlateDetection\\all_dataset\\test_data'\n",
    "plate_corner_dataset = osp.join(dataset_dir, 'plate_corner')\n",
    "plate_dataset = osp.join(dataset_dir, 'plate_images')\n",
    "\n",
    "test_path = [str(p) for p in Path(plate_corner_dataset).glob('**/*.jpg') if 'AC' in osp.basename(str(p)).split('-')[0]]\n",
    "print('total:', len(test_path))"
   ]
  },
  {
   "cell_type": "code",
   "execution_count": 6,
   "metadata": {},
   "outputs": [
    {
     "name": "stderr",
     "output_type": "stream",
     "text": [
      "100%|████████████████████████████████████████████████████████| 681/681 [01:13<00:00,  9.29 images/s]"
     ]
    },
    {
     "name": "stdout",
     "output_type": "stream",
     "text": [
      "Average time: 0.099s\n",
      "total= 681, correct= 664, accuracy=97.50%\n",
      "number error: 17\n"
     ]
    },
    {
     "name": "stderr",
     "output_type": "stream",
     "text": [
      "\n"
     ]
    }
   ],
   "source": [
    "acc_list = [0, 0]\n",
    "num_error = []\n",
    "total_time = 0\n",
    "times = 0\n",
    "\n",
    "for i in tqdm(range(len(test_path)), unit=' images', ncols=100):\n",
    "    p = test_path[i]\n",
    "    if i == 0:\n",
    "        _, _, _, _ = start(p) # skip initial time\n",
    "    t_time, d_number, _, _ = start(p)\n",
    "\n",
    "    if d_number:\n",
    "        total_time += t_time\n",
    "        times += 1\n",
    "        \n",
    "        number_file = osp.join(plate_dataset, osp.basename(p).split('-')[0]+'-plate.json')\n",
    "        with open(number_file, 'r') as f:\n",
    "            nb = [sh['label'] for sh in json.load(f)['shapes']]\n",
    "            number = ''\n",
    "            for n in nb:\n",
    "                number += n\n",
    "\n",
    "        acc_list[0] += 1\n",
    "        if d_number == number:\n",
    "            acc_list[1] += 1\n",
    "        else:\n",
    "            num_error.append(error_log(p, number, d_number))\n",
    "\n",
    "print('Average time: {:.3f}s'.format(total_time/times))\n",
    "print('total={:>4d}, correct={:>4d}, accuracy={:.2f}%'.format(acc_list[0], acc_list[1], acc_list[1]/acc_list[0]*100))\n",
    "\n",
    "print('number error:', len(num_error))\n",
    "with open('error_log/number_error_AOLP-AC.json', 'w') as f:\n",
    "    json.dump(num_error, f, indent=2)"
   ]
  },
  {
   "cell_type": "code",
   "execution_count": 7,
   "metadata": {},
   "outputs": [
    {
     "name": "stdout",
     "output_type": "stream",
     "text": [
      "total: 757\n"
     ]
    }
   ],
   "source": [
    "dataset_dir = r'D:\\User Profiles\\Desktop\\Personal Files\\School\\University Project\\myPlateDetection\\all_dataset\\test_data'\n",
    "plate_corner_dataset = osp.join(dataset_dir, 'plate_corner')\n",
    "plate_dataset = osp.join(dataset_dir, 'plate_images')\n",
    "\n",
    "test_path = [str(p) for p in Path(plate_corner_dataset).glob('**/*.jpg') if 'LE' in osp.basename(str(p)).split('-')[0]]\n",
    "print('total:', len(test_path))"
   ]
  },
  {
   "cell_type": "code",
   "execution_count": 8,
   "metadata": {},
   "outputs": [
    {
     "name": "stderr",
     "output_type": "stream",
     "text": [
      "100%|████████████████████████████████████████████████████████| 757/757 [01:15<00:00, 10.00 images/s]"
     ]
    },
    {
     "name": "stdout",
     "output_type": "stream",
     "text": [
      "Average time: 0.098s\n",
      "total= 757, correct= 754, accuracy=99.60%\n",
      "number error: 3\n"
     ]
    },
    {
     "name": "stderr",
     "output_type": "stream",
     "text": [
      "\n"
     ]
    }
   ],
   "source": [
    "acc_list = [0, 0]\n",
    "num_error = []\n",
    "total_time = 0\n",
    "times = 0\n",
    "\n",
    "for i in tqdm(range(len(test_path)), unit=' images', ncols=100):\n",
    "    p = test_path[i]\n",
    "    if i == 0:\n",
    "        _, _, _, _ = start(p) # skip initial time\n",
    "    t_time, d_number, _, _ = start(p)\n",
    "\n",
    "    if d_number:\n",
    "        total_time += t_time\n",
    "        times += 1\n",
    "        \n",
    "        number_file = osp.join(plate_dataset, osp.basename(p).split('-')[0]+'-plate.json')\n",
    "        with open(number_file, 'r') as f:\n",
    "            nb = [sh['label'] for sh in json.load(f)['shapes']]\n",
    "            number = ''\n",
    "            for n in nb:\n",
    "                number += n\n",
    "\n",
    "        acc_list[0] += 1\n",
    "        if d_number == number:\n",
    "            acc_list[1] += 1\n",
    "        else:\n",
    "            num_error.append(error_log(p, number, d_number))\n",
    "\n",
    "print('Average time: {:.3f}s'.format(total_time/times))\n",
    "print('total={:>4d}, correct={:>4d}, accuracy={:.2f}%'.format(acc_list[0], acc_list[1], acc_list[1]/acc_list[0]*100))\n",
    "\n",
    "print('number error:', len(num_error))\n",
    "with open('error_log/number_error_AOLP-LE.json', 'w') as f:\n",
    "    json.dump(num_error, f, indent=2)"
   ]
  },
  {
   "cell_type": "code",
   "execution_count": 9,
   "metadata": {},
   "outputs": [
    {
     "name": "stdout",
     "output_type": "stream",
     "text": [
      "total: 611\n"
     ]
    }
   ],
   "source": [
    "dataset_dir = r'D:\\User Profiles\\Desktop\\Personal Files\\School\\University Project\\myPlateDetection\\all_dataset\\test_data'\n",
    "plate_corner_dataset = osp.join(dataset_dir, 'plate_corner')\n",
    "plate_dataset = osp.join(dataset_dir, 'plate_images')\n",
    "\n",
    "test_path = [str(p) for p in Path(plate_corner_dataset).glob('**/*.jpg') if 'RP' in osp.basename(str(p)).split('-')[0]]\n",
    "print('total:', len(test_path))"
   ]
  },
  {
   "cell_type": "code",
   "execution_count": 10,
   "metadata": {},
   "outputs": [
    {
     "name": "stderr",
     "output_type": "stream",
     "text": [
      "100%|████████████████████████████████████████████████████████| 611/611 [01:00<00:00, 10.13 images/s]"
     ]
    },
    {
     "name": "stdout",
     "output_type": "stream",
     "text": [
      "Average time: 0.097s\n",
      "total= 611, correct= 598, accuracy=97.87%\n",
      "number error: 13\n"
     ]
    },
    {
     "name": "stderr",
     "output_type": "stream",
     "text": [
      "\n"
     ]
    }
   ],
   "source": [
    "acc_list = [0, 0]\n",
    "num_error = []\n",
    "total_time = 0\n",
    "times = 0\n",
    "\n",
    "for i in tqdm(range(len(test_path)), unit=' images', ncols=100):\n",
    "    p = test_path[i]\n",
    "    if i == 0:\n",
    "        _, _, _, _ = start(p) # skip initial time\n",
    "    t_time, d_number, _, _ = start(p)\n",
    "\n",
    "    if d_number:\n",
    "        total_time += t_time\n",
    "        times += 1\n",
    "        \n",
    "        number_file = osp.join(plate_dataset, osp.basename(p).split('-')[0]+'-plate.json')\n",
    "        with open(number_file, 'r') as f:\n",
    "            nb = [sh['label'] for sh in json.load(f)['shapes']]\n",
    "            number = ''\n",
    "            for n in nb:\n",
    "                number += n\n",
    "\n",
    "        acc_list[0] += 1\n",
    "        if d_number == number:\n",
    "            acc_list[1] += 1\n",
    "        else:\n",
    "            num_error.append(error_log(p, number, d_number))\n",
    "\n",
    "print('Average time: {:.3f}s'.format(total_time/times))\n",
    "print('total={:>4d}, correct={:>4d}, accuracy={:.2f}%'.format(acc_list[0], acc_list[1], acc_list[1]/acc_list[0]*100))\n",
    "\n",
    "print('number error:', len(num_error))\n",
    "with open('error_log/number_error_AOLP-RP.json', 'w') as f:\n",
    "    json.dump(num_error, f, indent=2)"
   ]
  }
 ],
 "metadata": {
  "interpreter": {
   "hash": "1c7f24cc11f040a5450439addbf53847cc02767a77e59162e28b9055931e82da"
  },
  "kernelspec": {
   "display_name": "Python 3.8.12 ('tensorflow')",
   "language": "python",
   "name": "python3"
  },
  "language_info": {
   "codemirror_mode": {
    "name": "ipython",
    "version": 3
   },
   "file_extension": ".py",
   "mimetype": "text/x-python",
   "name": "python",
   "nbconvert_exporter": "python",
   "pygments_lexer": "ipython3",
   "version": "3.9.12"
  },
  "orig_nbformat": 4
 },
 "nbformat": 4,
 "nbformat_minor": 2
}
