{
 "cells": [
  {
   "cell_type": "code",
   "execution_count": 1,
   "metadata": {},
   "outputs": [],
   "source": [
    "from PIL import Image\n",
    "import numpy as np\n",
    "import json\n",
    "import os\n",
    "import os.path as osp\n",
    "from pathlib import Path\n",
    "from tqdm import tqdm\n",
    "\n",
    "from core import ObjectDetector"
   ]
  },
  {
   "cell_type": "code",
   "execution_count": 2,
   "metadata": {},
   "outputs": [
    {
     "name": "stdout",
     "output_type": "stream",
     "text": [
      "<yolov4-plate_type> model loaded.\n"
     ]
    }
   ],
   "source": [
    "dt_type  = ObjectDetector('yolov4-plate_type', (608, 608))"
   ]
  },
  {
   "cell_type": "code",
   "execution_count": 2,
   "metadata": {},
   "outputs": [
    {
     "name": "stdout",
     "output_type": "stream",
     "text": [
      "<yolov4-plate_number> model loaded.\n"
     ]
    }
   ],
   "source": [
    "dt_number  = ObjectDetector('yolov4-plate_number', (320, 320))"
   ]
  },
  {
   "cell_type": "code",
   "execution_count": 3,
   "metadata": {},
   "outputs": [
    {
     "name": "stdout",
     "output_type": "stream",
     "text": [
      "total: 2049\n"
     ]
    }
   ],
   "source": [
    "dir = r'D:\\User Profiles\\Desktop\\Personal Files\\School\\University Project\\myPlateDetection\\dataset\\AOLP\\plate_images'\n",
    "path = [str(p) for p in Path(dir).glob('**/*.jpg')]\n",
    "print('total:', len(path))"
   ]
  },
  {
   "cell_type": "code",
   "execution_count": 4,
   "metadata": {},
   "outputs": [],
   "source": [
    "def start_ptype(path):\n",
    "    d_type = None\n",
    "    img = np.array(Image.open(path))\n",
    "\n",
    "    _ = dt_type.loadImage(img)\n",
    "    bbox2, obj2 = dt_type.runDetection('plate')\n",
    "\n",
    "    if len(bbox2) != 0:\n",
    "        d_type = obj2\n",
    "\n",
    "    return d_type\n",
    "\n",
    "def start_number(path):\n",
    "    d_number = None\n",
    "    img = np.array(Image.open(path))\n",
    "    \n",
    "    _ = dt_number.loadImage(img)\n",
    "    bbox3, obj3 = dt_number.runDetection('number')\n",
    "\n",
    "    if len(bbox3) != 0:\n",
    "        nb = [obj3[i] for i in bbox3[:, 0, 0].argsort()]\n",
    "        d_number = ''\n",
    "        for n in nb:\n",
    "            d_number += n\n",
    "\n",
    "    return d_number\n",
    "\n",
    "def error_log(p, label, predict):\n",
    "    log = {'path': p, 'label': label, 'predict': predict}\n",
    "\n",
    "    return log"
   ]
  },
  {
   "cell_type": "code",
   "execution_count": 5,
   "metadata": {},
   "outputs": [
    {
     "name": "stderr",
     "output_type": "stream",
     "text": [
      "100%|██████████████████████████████████████████████████████| 2049/2049 [02:36<00:00, 13.07 images/s]\n"
     ]
    }
   ],
   "source": [
    "type_error = []\n",
    "no_detection = []\n",
    "\n",
    "for i in tqdm(range(len(path)), unit=' images', ncols=100):\n",
    "    p = path[i]\n",
    "    d_ptype = start_ptype(p)\n",
    "\n",
    "    fn = osp.splitext(osp.basename(p))[0]\n",
    "    if d_ptype:\n",
    "        ptype_file = p.replace('.jpg', '.json')\n",
    "\n",
    "        if osp.exists(ptype_file):\n",
    "            with open(ptype_file, 'r', encoding='utf-8') as f:\n",
    "                ptype = json.load(f)['shapes'][0]['label']\n",
    "\n",
    "            if d_ptype != ptype:\n",
    "                type_error.append(error_log(fn, ptype, d_ptype))      \n",
    "    else:\n",
    "        no_detection.append(fn)\n"
   ]
  },
  {
   "cell_type": "code",
   "execution_count": 5,
   "metadata": {},
   "outputs": [
    {
     "name": "stderr",
     "output_type": "stream",
     "text": [
      "100%|██████████████████████████████████████████████████████| 2049/2049 [02:10<00:00, 15.72 images/s]\n"
     ]
    }
   ],
   "source": [
    "number_error = []\n",
    "no_detection = []\n",
    "\n",
    "for i in tqdm(range(len(path)), unit=' images', ncols=100):\n",
    "    p = path[i]\n",
    "    d_number = start_number(p)\n",
    "\n",
    "    fn = osp.splitext(osp.basename(p))[0]\n",
    "    if d_number:\n",
    "        number_file = p.replace('.jpg', '.json')\n",
    "\n",
    "        if osp.exists(number_file):\n",
    "            with open(number_file, 'r') as f:\n",
    "                nb = [sh['label'] for sh in json.load(f)['shapes']]\n",
    "                number = ''\n",
    "                for n in nb:\n",
    "                    number += n\n",
    "\n",
    "            if d_number != number:\n",
    "                number_error.append(error_log(fn, number, d_number))      \n",
    "    else:\n",
    "        no_detection.append(fn)\n"
   ]
  },
  {
   "cell_type": "code",
   "execution_count": 6,
   "metadata": {},
   "outputs": [
    {
     "name": "stdout",
     "output_type": "stream",
     "text": [
      "no detection: 0\n",
      "\n",
      "type error: 0\n"
     ]
    }
   ],
   "source": [
    "print('no detection:', len(no_detection))\n",
    "for i in no_detection:\n",
    "    print(i)\n",
    "\n",
    "print('\\ntype error:', len(type_error))\n",
    "for i in type_error:\n",
    "    print(i)"
   ]
  },
  {
   "cell_type": "code",
   "execution_count": 6,
   "metadata": {},
   "outputs": [
    {
     "name": "stdout",
     "output_type": "stream",
     "text": [
      "no detection: 0\n",
      "\n",
      "number error: 24\n",
      "{'path': 'AC_098-plate', 'label': '8D3457', 'predict': '8BD3457'}\n",
      "{'path': 'AC_184-plate', 'label': 'LI8850', 'predict': 'LT8850'}\n",
      "{'path': 'AC_253-plate', 'label': 'LI8850', 'predict': 'LT8850'}\n",
      "{'path': 'AC_254-plate', 'label': 'LI8850', 'predict': 'LT8850'}\n",
      "{'path': 'AC_489-plate', 'label': '0750J0', 'predict': '0750JD'}\n",
      "{'path': 'AC_541-plate', 'label': 'IC0906', 'predict': '1C0906'}\n",
      "{'path': 'AC_610-plate', 'label': 'IP9968', 'predict': 'TP9968'}\n",
      "{'path': 'AC_625-plate', 'label': 'IL9170', 'predict': 'TL9170'}\n",
      "{'path': 'AC_661-plate', 'label': '0I7745', 'predict': 'D7745'}\n",
      "{'path': 'LE_182-plate', 'label': 'IB8566', 'predict': 'TB8566'}\n",
      "{'path': 'LE_451-plate', 'label': 'IU8735', 'predict': 'TU8735'}\n",
      "{'path': 'LE_688-plate', 'label': 'S548S7', 'predict': 'S54897'}\n",
      "{'path': 'RP_100-plate', 'label': 'D41400', 'predict': 'BD41400'}\n",
      "{'path': 'RP_294-plate', 'label': 'CI0790', 'predict': 'CT0790'}\n",
      "{'path': 'RP_309-plate', 'label': 'IP9968', 'predict': 'TP9968'}\n",
      "{'path': 'RP_324-plate', 'label': 'IL9170', 'predict': 'TL9170'}\n",
      "{'path': 'RP_390-plate', 'label': '0750J0', 'predict': '0750JD'}\n",
      "{'path': 'RP_417-plate', 'label': 'LI6366', 'predict': 'LT6366'}\n",
      "{'path': 'RP_418-plate', 'label': 'LI6366', 'predict': 'LT6366'}\n",
      "{'path': 'RP_427-plate', 'label': 'CI0790', 'predict': 'CT0790'}\n",
      "{'path': 'RP_464-plate', 'label': 'IP9968', 'predict': 'TP9968'}\n",
      "{'path': 'RP_568-plate', 'label': 'IC0906', 'predict': '1C0906'}\n",
      "{'path': 'RP_585-plate', 'label': 'IL9170', 'predict': 'TL9170'}\n",
      "{'path': 'RP_611-plate', 'label': 'CI0911', 'predict': 'CT0911'}\n"
     ]
    }
   ],
   "source": [
    "print('no detection:', len(no_detection))\n",
    "for i in no_detection:\n",
    "    print(i)\n",
    "\n",
    "print('\\nnumber error:', len(number_error))\n",
    "for i in number_error:\n",
    "    print(i)"
   ]
  }
 ],
 "metadata": {
  "interpreter": {
   "hash": "1c7f24cc11f040a5450439addbf53847cc02767a77e59162e28b9055931e82da"
  },
  "kernelspec": {
   "display_name": "Python 3.8.12 ('tensorflow')",
   "language": "python",
   "name": "python3"
  },
  "language_info": {
   "codemirror_mode": {
    "name": "ipython",
    "version": 3
   },
   "file_extension": ".py",
   "mimetype": "text/x-python",
   "name": "python",
   "nbconvert_exporter": "python",
   "pygments_lexer": "ipython3",
   "version": "3.9.12"
  },
  "orig_nbformat": 4
 },
 "nbformat": 4,
 "nbformat_minor": 2
}
